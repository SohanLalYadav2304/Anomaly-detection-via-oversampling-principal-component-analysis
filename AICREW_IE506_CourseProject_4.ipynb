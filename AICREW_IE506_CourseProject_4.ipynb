{
  "cells": [
    {
      "cell_type": "markdown",
      "source": [
        "$\\huge \\text{Credit card fraud detection data set:}$"
      ],
      "metadata": {
        "id": "P90hKjuCv6sr"
      }
    },
    {
      "cell_type": "code",
      "execution_count": null,
      "metadata": {
        "id": "DwQU1Cfc7cC9"
      },
      "outputs": [],
      "source": [
        "import numpy as np\n",
        "import pandas as pd\n",
        "import matplotlib.pyplot as plt\n",
        "%matplotlib inline"
      ]
    },
    {
      "cell_type": "code",
      "execution_count": null,
      "metadata": {
        "id": "kgbDD5di7iaZ"
      },
      "outputs": [],
      "source": [
        "from timeit import default_timer as timer"
      ]
    },
    {
      "cell_type": "code",
      "execution_count": null,
      "metadata": {
        "id": "uwN7u2In7kFa"
      },
      "outputs": [],
      "source": [
        "def compute_Q(A):\n",
        "  n=len(A) # number of data points\n",
        "  Q_matrix=np.matmul(A.T,A)/n\n",
        "  return Q_matrix"
      ]
    },
    {
      "cell_type": "code",
      "execution_count": null,
      "metadata": {
        "id": "97D0MrKI7pWS"
      },
      "outputs": [],
      "source": [
        "iteration_num=0\n",
        "tolerance=1\n",
        "matrix_decomposition=2\n",
        "power_method=3"
      ]
    },
    {
      "cell_type": "code",
      "execution_count": null,
      "metadata": {
        "id": "eQ4L8mkK7rEH"
      },
      "outputs": [],
      "source": [
        "def compute_principal_direc_power(A, tol=1e-6, max_iter=1000):\n",
        "  n = A.shape[0]\n",
        "  x = np.ones(n) / np.sqrt(n)\n",
        "  delta = 1\n",
        "\n",
        "  for i in range(max_iter):\n",
        "      x_new = A @ x\n",
        "      x_new = x_new / np.linalg.norm(x_new)\n",
        "      delta = np.linalg.norm(x_new - x)\n",
        "      x = x_new\n",
        "\n",
        "      if delta < tol:\n",
        "          break\n",
        "\n",
        "  return x"
      ]
    },
    {
      "cell_type": "code",
      "execution_count": null,
      "metadata": {
        "id": "-_B-GYpb7ts7"
      },
      "outputs": [],
      "source": [
        "\n",
        "def compute_cosine(a,b):\n",
        "  assert type(a) is np.ndarray and type(b) is np.ndarray\n",
        "  return (np.dot(a,b))/(np.linalg.norm(a)*np.linalg.norm(b))"
      ]
    },
    {
      "cell_type": "code",
      "execution_count": null,
      "metadata": {
        "id": "Clp3Ifi_785S"
      },
      "outputs": [],
      "source": [
        "def compute_thres(score,k=2):\n",
        "  a=np.array(score)\n",
        "  return  np.mean(a)-k*np.std(a), np.mean(a)+k*np.std(a)"
      ]
    },
    {
      "cell_type": "code",
      "execution_count": null,
      "metadata": {
        "id": "qbw0Q53A8DM_"
      },
      "outputs": [],
      "source": [
        "# let's define a seed value\n",
        "seed=17"
      ]
    },
    {
      "cell_type": "code",
      "execution_count": null,
      "metadata": {
        "id": "KLOzZMP67-pb"
      },
      "outputs": [],
      "source": [
        "def guass_2d(mu,std,size):\n",
        "  data=[]\n",
        "  np.random.seed(seed)\n",
        "  for i in range(size):\n",
        "    x=np.random.normal(mu,std)\n",
        "    y=np.random.normal(mu,std)\n",
        "    data.append(x)\n",
        "    data.append(y)\n",
        "  return pd.DataFrame(np.array(data).reshape(size,2))"
      ]
    },
    {
      "cell_type": "code",
      "execution_count": null,
      "metadata": {
        "id": "AEpUC3_a8CoR"
      },
      "outputs": [],
      "source": [
        "def dchange(x):\n",
        "  return np.array(list(x))"
      ]
    },
    {
      "cell_type": "markdown",
      "metadata": {
        "id": "uIAnisaA8QS9"
      },
      "source": [
        "$\\large \\text{PCAOD: Principal Component Analysis Otlier Detection without Oversampling with LOO(leave one out) and with or without strategy}$"
      ]
    },
    {
      "cell_type": "code",
      "execution_count": null,
      "metadata": {
        "id": "0U3mVxuA8MtP"
      },
      "outputs": [],
      "source": [
        "def PCAOD(data):\n",
        "  start=timer()\n",
        "  outlier_score=[]\n",
        "  data_score={}\n",
        "  Q_mat_init=compute_Q(np.array(data))\n",
        "  init_dir=compute_principal_direc_power(Q_mat_init)\n",
        "  for i in range(len(data)):\n",
        "\n",
        "    data_rem=data.drop(i)\n",
        "\n",
        "    Q_mat=compute_Q(np.array(data_rem))\n",
        "    dir=compute_principal_direc_power(Q_mat)\n",
        "\n",
        "    cosine_val=compute_cosine(init_dir,dir)\n",
        "\n",
        "    outlier_scr=1-abs(cosine_val)\n",
        "\n",
        "    outlier_score.append(outlier_scr)\n",
        "    data_score[tuple(data.iloc[i])]=outlier_scr\n",
        "\n",
        "  end=timer()\n",
        "\n",
        "  return outlier_score,end-start\n",
        "\n",
        "\n",
        "\n"
      ]
    },
    {
      "cell_type": "markdown",
      "metadata": {
        "id": "dXF_qwbR8WHU"
      },
      "source": [
        "\n",
        "$\\large \\text{Over-sampling principal Component Analysis outlier detection(used oversampling technique)}$"
      ]
    },
    {
      "cell_type": "code",
      "execution_count": null,
      "metadata": {
        "id": "NkYsbNfv8TZ1"
      },
      "outputs": [],
      "source": [
        "def OPCAOD(dat,r=0.1):\n",
        "  start=timer()\n",
        "  n=len(dat) # number of data points\n",
        "  dim=dat.shape[1]\n",
        "  #data_score={}\n",
        "  Q_mat_init=compute_Q(np.array(dat))\n",
        "  mu_init=np.array(dat.mean())\n",
        "  prin_dir_init=compute_principal_direc_power(Q_mat_init)\n",
        "  #prin_dir_list=[]\n",
        "  #cosine_sim_list=[]\n",
        "  outlier_score_list=[]\n",
        "  m=(1+r)\n",
        "  for i in range(len(dat)):\n",
        "    mu=((mu_init)+r*np.array(dat.iloc[i]))/m\n",
        "\n",
        "    data_point=np.array(dat.iloc[i])\n",
        "    cov_mat=(Q_mat_init/m)+((r/m)*np.outer(data_point,data_point))-np.outer(mu,mu)\n",
        "    # finding principal direction\n",
        "    prin_dir=compute_principal_direc_power(cov_mat)\n",
        "    #prin_dir_list.append(prin_dir)\n",
        "    # finding cosine similiraty (cos theta)\n",
        "    cosine_sim=compute_cosine( prin_dir_init,prin_dir)\n",
        "    #cosine_sim_list.append(cosine_sim)\n",
        "    # h\n",
        "    outlier_score=(1-abs(cosine_sim))\n",
        "    outlier_score_list.append(outlier_score)\n",
        "    #data_score[tuple(dat.iloc[i])]=outlier_score\n",
        "\n",
        "\n",
        "  end=timer()\n",
        "  #Sc=np.array(outlier_score_list)\n",
        "  #mean=Sc.mean()\n",
        "  #outlier_score_list=abs(Sc-mean)\n",
        "\n",
        "  return Q_mat_init,mu_init,prin_dir_init,outlier_score_list,end-start"
      ]
    },
    {
      "cell_type": "code",
      "execution_count": null,
      "metadata": {
        "id": "koLXjJIyIEeV"
      },
      "outputs": [],
      "source": [
        "def online_anomaly(dat,Q_mat_init,mu_init,prin_dir_init,thres,r=0.1):\n",
        "  m=1+r\n",
        "  pred=[]\n",
        "  for i in range(len(dat)):\n",
        "    mu=((mu_init)+r*np.array(dat.iloc[i]))/m\n",
        "\n",
        "    data_point=np.array(dat.iloc[i])\n",
        "    cov_mat=(Q_mat_init/m)+((r/m)*np.outer(data_point,data_point))-np.outer(mu,mu)\n",
        "    # finding principal direction\n",
        "    prin_dir=compute_principal_direc_power(cov_mat)\n",
        "    #prin_dir_list.append(prin_dir)\n",
        "    # finding cosine similiraty (cos theta)\n",
        "    cosine_sim=compute_cosine( prin_dir_init,prin_dir)\n",
        "    #cosine_sim_list.append(cosine_sim)\n",
        "    # h\n",
        "    outlier_score=(1-abs(cosine_sim))\n",
        "\n",
        "    if outlier_score<=thres[0] or outlier_score>=thres[1]:\n",
        "      pred.append(1)\n",
        "    else:\n",
        "      pred.append(0)\n",
        "    #data_score[tuple(dat.iloc[i])]=outlier_score\n",
        "  return pred\n",
        "\n"
      ]
    },
    {
      "cell_type": "markdown",
      "metadata": {
        "id": "nIBYxcAgbBMB"
      },
      "source": [
        "$\\huge \\text{Credit Card Fraud Detection Dataset:}$"
      ]
    },
    {
      "cell_type": "code",
      "execution_count": null,
      "metadata": {
        "id": "bhVv-f9kbAln",
        "colab": {
          "base_uri": "https://localhost:8080/",
          "height": 225
        },
        "outputId": "736e1286-f9be-4a83-a353-8f9c9639d06b"
      },
      "outputs": [
        {
          "output_type": "error",
          "ename": "ParserError",
          "evalue": "ignored",
          "traceback": [
            "\u001b[0;31m---------------------------------------------------------------------------\u001b[0m",
            "\u001b[0;31mParserError\u001b[0m                               Traceback (most recent call last)",
            "\u001b[0;32m<ipython-input-14-daa1f69c566f>\u001b[0m in \u001b[0;36m<cell line: 1>\u001b[0;34m()\u001b[0m\n\u001b[0;32m----> 1\u001b[0;31m \u001b[0mdata\u001b[0m\u001b[0;34m=\u001b[0m\u001b[0mpd\u001b[0m\u001b[0;34m.\u001b[0m\u001b[0mread_csv\u001b[0m\u001b[0;34m(\u001b[0m\u001b[0;34m'creditcard.csv'\u001b[0m\u001b[0;34m)\u001b[0m\u001b[0;34m\u001b[0m\u001b[0;34m\u001b[0m\u001b[0m\n\u001b[0m",
            "\u001b[0;32m/usr/local/lib/python3.10/dist-packages/pandas/util/_decorators.py\u001b[0m in \u001b[0;36mwrapper\u001b[0;34m(*args, **kwargs)\u001b[0m\n\u001b[1;32m    209\u001b[0m                 \u001b[0;32melse\u001b[0m\u001b[0;34m:\u001b[0m\u001b[0;34m\u001b[0m\u001b[0;34m\u001b[0m\u001b[0m\n\u001b[1;32m    210\u001b[0m                     \u001b[0mkwargs\u001b[0m\u001b[0;34m[\u001b[0m\u001b[0mnew_arg_name\u001b[0m\u001b[0;34m]\u001b[0m \u001b[0;34m=\u001b[0m \u001b[0mnew_arg_value\u001b[0m\u001b[0;34m\u001b[0m\u001b[0;34m\u001b[0m\u001b[0m\n\u001b[0;32m--> 211\u001b[0;31m             \u001b[0;32mreturn\u001b[0m \u001b[0mfunc\u001b[0m\u001b[0;34m(\u001b[0m\u001b[0;34m*\u001b[0m\u001b[0margs\u001b[0m\u001b[0;34m,\u001b[0m \u001b[0;34m**\u001b[0m\u001b[0mkwargs\u001b[0m\u001b[0;34m)\u001b[0m\u001b[0;34m\u001b[0m\u001b[0;34m\u001b[0m\u001b[0m\n\u001b[0m\u001b[1;32m    212\u001b[0m \u001b[0;34m\u001b[0m\u001b[0m\n\u001b[1;32m    213\u001b[0m         \u001b[0;32mreturn\u001b[0m \u001b[0mcast\u001b[0m\u001b[0;34m(\u001b[0m\u001b[0mF\u001b[0m\u001b[0;34m,\u001b[0m \u001b[0mwrapper\u001b[0m\u001b[0;34m)\u001b[0m\u001b[0;34m\u001b[0m\u001b[0;34m\u001b[0m\u001b[0m\n",
            "\u001b[0;32m/usr/local/lib/python3.10/dist-packages/pandas/util/_decorators.py\u001b[0m in \u001b[0;36mwrapper\u001b[0;34m(*args, **kwargs)\u001b[0m\n\u001b[1;32m    329\u001b[0m                     \u001b[0mstacklevel\u001b[0m\u001b[0;34m=\u001b[0m\u001b[0mfind_stack_level\u001b[0m\u001b[0;34m(\u001b[0m\u001b[0;34m)\u001b[0m\u001b[0;34m,\u001b[0m\u001b[0;34m\u001b[0m\u001b[0;34m\u001b[0m\u001b[0m\n\u001b[1;32m    330\u001b[0m                 )\n\u001b[0;32m--> 331\u001b[0;31m             \u001b[0;32mreturn\u001b[0m \u001b[0mfunc\u001b[0m\u001b[0;34m(\u001b[0m\u001b[0;34m*\u001b[0m\u001b[0margs\u001b[0m\u001b[0;34m,\u001b[0m \u001b[0;34m**\u001b[0m\u001b[0mkwargs\u001b[0m\u001b[0;34m)\u001b[0m\u001b[0;34m\u001b[0m\u001b[0;34m\u001b[0m\u001b[0m\n\u001b[0m\u001b[1;32m    332\u001b[0m \u001b[0;34m\u001b[0m\u001b[0m\n\u001b[1;32m    333\u001b[0m         \u001b[0;31m# error: \"Callable[[VarArg(Any), KwArg(Any)], Any]\" has no\u001b[0m\u001b[0;34m\u001b[0m\u001b[0;34m\u001b[0m\u001b[0m\n",
            "\u001b[0;32m/usr/local/lib/python3.10/dist-packages/pandas/io/parsers/readers.py\u001b[0m in \u001b[0;36mread_csv\u001b[0;34m(filepath_or_buffer, sep, delimiter, header, names, index_col, usecols, squeeze, prefix, mangle_dupe_cols, dtype, engine, converters, true_values, false_values, skipinitialspace, skiprows, skipfooter, nrows, na_values, keep_default_na, na_filter, verbose, skip_blank_lines, parse_dates, infer_datetime_format, keep_date_col, date_parser, dayfirst, cache_dates, iterator, chunksize, compression, thousands, decimal, lineterminator, quotechar, quoting, doublequote, escapechar, comment, encoding, encoding_errors, dialect, error_bad_lines, warn_bad_lines, on_bad_lines, delim_whitespace, low_memory, memory_map, float_precision, storage_options)\u001b[0m\n\u001b[1;32m    948\u001b[0m     \u001b[0mkwds\u001b[0m\u001b[0;34m.\u001b[0m\u001b[0mupdate\u001b[0m\u001b[0;34m(\u001b[0m\u001b[0mkwds_defaults\u001b[0m\u001b[0;34m)\u001b[0m\u001b[0;34m\u001b[0m\u001b[0;34m\u001b[0m\u001b[0m\n\u001b[1;32m    949\u001b[0m \u001b[0;34m\u001b[0m\u001b[0m\n\u001b[0;32m--> 950\u001b[0;31m     \u001b[0;32mreturn\u001b[0m \u001b[0m_read\u001b[0m\u001b[0;34m(\u001b[0m\u001b[0mfilepath_or_buffer\u001b[0m\u001b[0;34m,\u001b[0m \u001b[0mkwds\u001b[0m\u001b[0;34m)\u001b[0m\u001b[0;34m\u001b[0m\u001b[0;34m\u001b[0m\u001b[0m\n\u001b[0m\u001b[1;32m    951\u001b[0m \u001b[0;34m\u001b[0m\u001b[0m\n\u001b[1;32m    952\u001b[0m \u001b[0;34m\u001b[0m\u001b[0m\n",
            "\u001b[0;32m/usr/local/lib/python3.10/dist-packages/pandas/io/parsers/readers.py\u001b[0m in \u001b[0;36m_read\u001b[0;34m(filepath_or_buffer, kwds)\u001b[0m\n\u001b[1;32m    609\u001b[0m \u001b[0;34m\u001b[0m\u001b[0m\n\u001b[1;32m    610\u001b[0m     \u001b[0;32mwith\u001b[0m \u001b[0mparser\u001b[0m\u001b[0;34m:\u001b[0m\u001b[0;34m\u001b[0m\u001b[0;34m\u001b[0m\u001b[0m\n\u001b[0;32m--> 611\u001b[0;31m         \u001b[0;32mreturn\u001b[0m \u001b[0mparser\u001b[0m\u001b[0;34m.\u001b[0m\u001b[0mread\u001b[0m\u001b[0;34m(\u001b[0m\u001b[0mnrows\u001b[0m\u001b[0;34m)\u001b[0m\u001b[0;34m\u001b[0m\u001b[0;34m\u001b[0m\u001b[0m\n\u001b[0m\u001b[1;32m    612\u001b[0m \u001b[0;34m\u001b[0m\u001b[0m\n\u001b[1;32m    613\u001b[0m \u001b[0;34m\u001b[0m\u001b[0m\n",
            "\u001b[0;32m/usr/local/lib/python3.10/dist-packages/pandas/io/parsers/readers.py\u001b[0m in \u001b[0;36mread\u001b[0;34m(self, nrows)\u001b[0m\n\u001b[1;32m   1776\u001b[0m                     \u001b[0mcolumns\u001b[0m\u001b[0;34m,\u001b[0m\u001b[0;34m\u001b[0m\u001b[0;34m\u001b[0m\u001b[0m\n\u001b[1;32m   1777\u001b[0m                     \u001b[0mcol_dict\u001b[0m\u001b[0;34m,\u001b[0m\u001b[0;34m\u001b[0m\u001b[0;34m\u001b[0m\u001b[0m\n\u001b[0;32m-> 1778\u001b[0;31m                 \u001b[0;34m)\u001b[0m \u001b[0;34m=\u001b[0m \u001b[0mself\u001b[0m\u001b[0;34m.\u001b[0m\u001b[0m_engine\u001b[0m\u001b[0;34m.\u001b[0m\u001b[0mread\u001b[0m\u001b[0;34m(\u001b[0m  \u001b[0;31m# type: ignore[attr-defined]\u001b[0m\u001b[0;34m\u001b[0m\u001b[0;34m\u001b[0m\u001b[0m\n\u001b[0m\u001b[1;32m   1779\u001b[0m                     \u001b[0mnrows\u001b[0m\u001b[0;34m\u001b[0m\u001b[0;34m\u001b[0m\u001b[0m\n\u001b[1;32m   1780\u001b[0m                 )\n",
            "\u001b[0;32m/usr/local/lib/python3.10/dist-packages/pandas/io/parsers/c_parser_wrapper.py\u001b[0m in \u001b[0;36mread\u001b[0;34m(self, nrows)\u001b[0m\n\u001b[1;32m    228\u001b[0m         \u001b[0;32mtry\u001b[0m\u001b[0;34m:\u001b[0m\u001b[0;34m\u001b[0m\u001b[0;34m\u001b[0m\u001b[0m\n\u001b[1;32m    229\u001b[0m             \u001b[0;32mif\u001b[0m \u001b[0mself\u001b[0m\u001b[0;34m.\u001b[0m\u001b[0mlow_memory\u001b[0m\u001b[0;34m:\u001b[0m\u001b[0;34m\u001b[0m\u001b[0;34m\u001b[0m\u001b[0m\n\u001b[0;32m--> 230\u001b[0;31m                 \u001b[0mchunks\u001b[0m \u001b[0;34m=\u001b[0m \u001b[0mself\u001b[0m\u001b[0;34m.\u001b[0m\u001b[0m_reader\u001b[0m\u001b[0;34m.\u001b[0m\u001b[0mread_low_memory\u001b[0m\u001b[0;34m(\u001b[0m\u001b[0mnrows\u001b[0m\u001b[0;34m)\u001b[0m\u001b[0;34m\u001b[0m\u001b[0;34m\u001b[0m\u001b[0m\n\u001b[0m\u001b[1;32m    231\u001b[0m                 \u001b[0;31m# destructive to chunks\u001b[0m\u001b[0;34m\u001b[0m\u001b[0;34m\u001b[0m\u001b[0m\n\u001b[1;32m    232\u001b[0m                 \u001b[0mdata\u001b[0m \u001b[0;34m=\u001b[0m \u001b[0m_concatenate_chunks\u001b[0m\u001b[0;34m(\u001b[0m\u001b[0mchunks\u001b[0m\u001b[0;34m)\u001b[0m\u001b[0;34m\u001b[0m\u001b[0;34m\u001b[0m\u001b[0m\n",
            "\u001b[0;32m/usr/local/lib/python3.10/dist-packages/pandas/_libs/parsers.pyx\u001b[0m in \u001b[0;36mpandas._libs.parsers.TextReader.read_low_memory\u001b[0;34m()\u001b[0m\n",
            "\u001b[0;32m/usr/local/lib/python3.10/dist-packages/pandas/_libs/parsers.pyx\u001b[0m in \u001b[0;36mpandas._libs.parsers.TextReader._read_rows\u001b[0;34m()\u001b[0m\n",
            "\u001b[0;32m/usr/local/lib/python3.10/dist-packages/pandas/_libs/parsers.pyx\u001b[0m in \u001b[0;36mpandas._libs.parsers.TextReader._tokenize_rows\u001b[0;34m()\u001b[0m\n",
            "\u001b[0;32m/usr/local/lib/python3.10/dist-packages/pandas/_libs/parsers.pyx\u001b[0m in \u001b[0;36mpandas._libs.parsers.raise_parser_error\u001b[0;34m()\u001b[0m\n",
            "\u001b[0;31mParserError\u001b[0m: Error tokenizing data. C error: Expected 31 fields in line 3982, saw 46\n"
          ]
        }
      ],
      "source": [
        "data=pd.read_csv('creditcard.csv')"
      ]
    },
    {
      "cell_type": "code",
      "execution_count": null,
      "metadata": {
        "id": "y9w6DxtIbwt_"
      },
      "outputs": [],
      "source": [
        "data.shape"
      ]
    },
    {
      "cell_type": "code",
      "execution_count": null,
      "metadata": {
        "id": "2Oty3saNbAgL"
      },
      "outputs": [],
      "source": [
        "data.info()"
      ]
    },
    {
      "cell_type": "markdown",
      "metadata": {
        "id": "RS-GRmt3boRG"
      },
      "source": [
        "$\\text{Since time columns is just showing the time of transaction if we initiate time with first transacton.So we decide to drop this column.}$"
      ]
    },
    {
      "cell_type": "markdown",
      "metadata": {
        "id": "UIrX6qothW68"
      },
      "source": [
        "$\\large \\text{we consider other columns as features and class column as label of data point.}$"
      ]
    },
    {
      "cell_type": "code",
      "execution_count": null,
      "metadata": {
        "id": "TWUl5dS_bAdi"
      },
      "outputs": [],
      "source": [
        "data=data.drop(['Time'],axis=1)\n",
        "data"
      ]
    },
    {
      "cell_type": "markdown",
      "metadata": {
        "id": "yYVZS9dnjwFu"
      },
      "source": [
        "$\\large \\text{Last row has some missing values so we drop this row also.}$"
      ]
    },
    {
      "cell_type": "code",
      "execution_count": null,
      "metadata": {
        "id": "-eRMczcrj25d"
      },
      "outputs": [],
      "source": [
        "data=data.drop([len(data)-1])\n",
        "data"
      ]
    },
    {
      "cell_type": "code",
      "execution_count": null,
      "metadata": {
        "id": "yCEdAwn7lDuA"
      },
      "outputs": [],
      "source": [
        "data['Class'].value_counts()"
      ]
    },
    {
      "cell_type": "code",
      "execution_count": null,
      "metadata": {
        "id": "Lps3c230bAax"
      },
      "outputs": [],
      "source": [
        "data.info()"
      ]
    },
    {
      "cell_type": "code",
      "execution_count": null,
      "metadata": {
        "id": "Slj7SD3VlU68"
      },
      "outputs": [],
      "source": [
        "data_X=data[data.columns[:-1]]\n",
        "data_y=data[data.columns[-1]]"
      ]
    },
    {
      "cell_type": "code",
      "execution_count": null,
      "metadata": {
        "id": "9gTpOhj9ke8G"
      },
      "outputs": [],
      "source": [
        "from sklearn.model_selection import train_test_split"
      ]
    },
    {
      "cell_type": "code",
      "execution_count": null,
      "metadata": {
        "id": "J6dVTkgHke4l"
      },
      "outputs": [],
      "source": [
        "X_train, X_test, y_train, y_test = train_test_split(data_X, data_y, test_size=0.2, random_state=34)"
      ]
    },
    {
      "cell_type": "code",
      "execution_count": null,
      "metadata": {
        "id": "dk7YZy-uke1_"
      },
      "outputs": [],
      "source": [
        "train_data=pd.concat([X_train,y_train],axis=1)\n",
        "data_norm=train_data[train_data['Class']==0][train_data.columns[:-1]]\n",
        "\n"
      ]
    },
    {
      "cell_type": "code",
      "execution_count": null,
      "metadata": {
        "id": "R9o75anGkeze"
      },
      "outputs": [],
      "source": [
        "Q_mat_init,mu_init,prin_dir_init,outlier_score_list,time=OPCAOD(data_norm,r=0.1)"
      ]
    },
    {
      "cell_type": "code",
      "execution_count": null,
      "metadata": {
        "id": "Ax_5DHrqmHii"
      },
      "outputs": [],
      "source": [
        "thr1,thr2=compute_thres(outlier_score_list)\n",
        "thr=[thr1,thr2]"
      ]
    },
    {
      "cell_type": "code",
      "execution_count": null,
      "metadata": {
        "id": "MVhvAxU6mHe8"
      },
      "outputs": [],
      "source": [
        "from sklearn.metrics import confusion_matrix"
      ]
    },
    {
      "cell_type": "code",
      "execution_count": null,
      "metadata": {
        "id": "cOxXW79WZOEt"
      },
      "outputs": [],
      "source": [
        "print(len(X_test))"
      ]
    },
    {
      "cell_type": "code",
      "execution_count": null,
      "metadata": {
        "id": "QIPN0kVGmHae"
      },
      "outputs": [],
      "source": [
        "pred=online_anomaly(X_test,Q_mat_init,mu_init,prin_dir_init,thr,r=0.1)"
      ]
    },
    {
      "cell_type": "code",
      "execution_count": null,
      "metadata": {
        "id": "shzyLxIhmtMz"
      },
      "outputs": [],
      "source": [
        "y_pred=np.array(pred)\n",
        "y_actual=np.array(y_test)\n",
        "acc=np.sum(y_pred==y_actual)/len(y_pred)\n",
        "print('accuracy is :',acc)"
      ]
    },
    {
      "cell_type": "code",
      "execution_count": null,
      "metadata": {
        "id": "l_nrrSOlHE-T"
      },
      "outputs": [],
      "source": [
        "c_matrix=confusion_matrix(y_actual,y_pred)"
      ]
    },
    {
      "cell_type": "code",
      "execution_count": null,
      "metadata": {
        "id": "VXma22PTZOEu"
      },
      "outputs": [],
      "source": [
        "A=c_matrix\n",
        "TPR=A[0,0]/(A[0,0]+A[1,0])\n",
        "FPR=A[0,1]/(A[0,1]+A[1,0])\n",
        "print('True positive rate (TPR):',TPR,'And False Positive rate :',FPR)"
      ]
    },
    {
      "cell_type": "code",
      "execution_count": null,
      "metadata": {
        "id": "TKyTSjQaZOEu"
      },
      "outputs": [],
      "source": [
        "A"
      ]
    },
    {
      "cell_type": "code",
      "execution_count": null,
      "metadata": {
        "id": "crYALEkiZOEu"
      },
      "outputs": [],
      "source": []
    },
    {
      "cell_type": "code",
      "execution_count": null,
      "metadata": {
        "id": "_hIJXI-UZOEu"
      },
      "outputs": [],
      "source": []
    }
  ],
  "metadata": {
    "colab": {
      "provenance": []
    },
    "kernelspec": {
      "display_name": "Python 3",
      "language": "python",
      "name": "python3"
    },
    "language_info": {
      "codemirror_mode": {
        "name": "ipython",
        "version": 3
      },
      "file_extension": ".py",
      "mimetype": "text/x-python",
      "name": "python",
      "nbconvert_exporter": "python",
      "pygments_lexer": "ipython3",
      "version": "3.9.2"
    }
  },
  "nbformat": 4,
  "nbformat_minor": 0
}